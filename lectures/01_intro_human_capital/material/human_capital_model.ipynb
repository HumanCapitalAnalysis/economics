{
 "cells": [
  {
   "cell_type": "code",
   "execution_count": 15,
   "metadata": {},
   "outputs": [
    {
     "data": {
      "text/plain": [
       "[<matplotlib.lines.Line2D at 0x7fe6f6019e48>]"
      ]
     },
     "execution_count": 15,
     "metadata": {},
     "output_type": "execute_result"
    },
    {
     "data": {
      "image/png": "[encoded data removed]",
      "text/plain": [
       "<matplotlib.figure.Figure at 0x7fe6f6019da0>"
      ]
     },
     "metadata": {},
     "output_type": "display_data"
    }
   ],
   "source": [
    "import numpy as np\n",
    "from functools import partial\n",
    "\n",
    "\n",
    "def g(x):\n",
    "    return x ** (0.71)\n",
    "\n",
    "def g_prime(x):\n",
    "    return 0.71 * (x ** (- 0.29)) \n",
    "\n",
    "A = 0.75\n",
    "delta = 0.06\n",
    "r = 0.05\n",
    "T = 60\n",
    "theta = 0.5\n",
    "\n",
    "\n",
    "def lambda_t(A, r, t, delta):\n",
    "    rslt = ((A * np.exp(-r * t)) / (r  + delta)) * (1.0 - np.exp(-(r + delta ) * (T - t)))\n",
    "    \n",
    "    return rslt\n",
    "\n",
    "s_grid = np.linspace(0.001, 1.0, num=5000, endpoint=True)\n",
    "t_grid = np.linspace(0.0, 40, num=40, endpoint=True)\n",
    "\n",
    "s_time = []\n",
    "\n",
    "for t in t_grid:\n",
    "    if t == 0.0:\n",
    "        h_t = 5\n",
    "    else:\n",
    "        h_t = (1 - delta) * h_lagged + theta * g(s_t * h_lagged)\n",
    "        \n",
    "    def crit_func(A, r, t, delta, theta, h_t, s_t):\n",
    "\n",
    "        return (- A * np.exp(-r * t) + lambda_t(A, r, t, delta) * theta * g_prime(s_t * h_t)) ** 2\n",
    "\n",
    "\n",
    "    crit_func = partial(crit_func, A, r, t, delta, theta, h_t)\n",
    "    crit_func = np.vectorize(crit_func)\n",
    "\n",
    "\n",
    "    s_t = s_grid[np.argmin(crit_func(s_grid))]\n",
    "\n",
    "    h_lagged = h_t\n",
    "\n",
    "    s_time += [s_t]\n",
    "\n",
    "#    # Trying to calculate first period investment\n",
    "#    rslt = - A * np.exp(-r * t) + lambda_t(A, r, t, delta) * theta * g_prime(s_t * h_initial)\n",
    "#    print(rslt, s_t)\n",
    "import matplotlib.pyplot as plt\n",
    "fig, ax = plt.subplots()\n",
    "ax.plot(t_grid, s_time)"
   ]
  },
  {
   "cell_type": "code",
   "execution_count": null,
   "metadata": {},
   "outputs": [],
   "source": []
  },
  {
   "cell_type": "code",
   "execution_count": null,
   "metadata": {},
   "outputs": [],
   "source": []
  }
 ],
 "metadata": {
  "kernelspec": {
   "display_name": "Python 3",
   "language": "python",
   "name": "python3"
  },
  "language_info": {
   "codemirror_mode": {
    "name": "ipython",
    "version": 3
   },
   "file_extension": ".py",
   "mimetype": "text/x-python",
   "name": "python",
   "nbconvert_exporter": "python",
   "pygments_lexer": "ipython3",
   "version": "3.5.2"
  }
 },
 "nbformat": 4,
 "nbformat_minor": 2
}
