{
 "cells": [
  {
   "cell_type": "markdown",
   "metadata": {},
   "source": [
    "# True returns"
   ]
  },
  {
   "cell_type": "code",
   "execution_count": 1,
   "metadata": {},
   "outputs": [],
   "source": [
    "import statsmodels.formula.api as smf\n",
    "from scipy.stats import lognorm\n",
    "from scipy.stats import norm\n",
    "import pandas as pd\n",
    "import numpy as np\n",
    "\n",
    "pd.options.display.float_format = '${:,.2f}'.format"
   ]
  },
  {
   "cell_type": "markdown",
   "metadata": {},
   "source": [
    "## Solution"
   ]
  },
  {
   "cell_type": "markdown",
   "metadata": {},
   "source": [
    "We can solve the model by backward induction."
   ]
  },
  {
   "cell_type": "code",
   "execution_count": 4,
   "metadata": {},
   "outputs": [],
   "source": [
    "def conditional_expectation(eval_point, s):\n",
    "    \"\"\"This function calculates the conditional expectation for realizations larger than the\n",
    "    point of evaluation.\"\"\"\n",
    "    rslt = 1\n",
    "    rslt *= np.exp(s ** 2 / 2)\n",
    "    rslt *= norm.cdf((s ** 2 - np.log(eval_point)) / s)\n",
    "    rslt /= 1 - norm.cdf(np.log(eval_point) / s)\n",
    "    return rslt\n",
    "\n",
    "# We initialize containers for our objects of interest-\n",
    "Y = np.tile(np.nan, 5)\n",
    "V = np.tile(np.nan, 5)\n",
    "p = np.tile(np.nan, 4)\n",
    "\n",
    "r, s = 0.1, 0.1\n",
    "\n",
    "# We study earnings that are log linear in schooling.\n",
    "Y[0] = 1\n",
    "for i in range(1, 5):\n",
    "    Y[i] = Y[i - 1] * (1 + r)\n",
    "\n",
    "\n",
    "# This is the adjustment to the expected earnings as the expectation of the random shock is not one.\n",
    "shift = np.exp(s ** 2 / 2)\n",
    "\n",
    "# Value of choosing five years of schooling from the perspective of four years.\n",
    "V[4] = Y[4] * shift\n",
    "\n",
    "# Value of choosing four years of schooling from the perspective of three years.\n",
    "eval_point = V[4]/ ((1 + r) * Y[3])\n",
    "p[3] = lognorm.cdf(eval_point, s)\n",
    "\n",
    "V[3] = 0\n",
    "V[3] += (1 - p[3]) * Y[3] * conditional_expectation(eval_point, s) \n",
    "V[3] += p[3] * (V[4] / (1 + r))\n",
    "\n",
    "# Value of choosing three years of schooling from teh perspective of two\n",
    "eval_point = V[3] / ((1 + r) * Y[2]) \n",
    "p[2] = lognorm.cdf(eval_point, s)\n",
    "\n",
    "V[2] = 0\n",
    "V[2] += (1 - p[2]) * Y[2] * conditional_expectation(eval_point, s)\n",
    "V[2] += p[2] * (V[3] / (1 + r))\n",
    "\n",
    "# Value of choosing two years of schooling from the perspective of two\n",
    "eval_point = V[2] / ((1 + r) * Y[1]) \n",
    "p[1] = lognorm.cdf(eval_point, s)\n",
    "\n",
    "V[1] = 0\n",
    "V[1] += (1 - p[1]) * Y[1] * conditional_expectation(eval_point, s)\n",
    "V[1] += p[1] * (V[2] / (1 + r))\n",
    "\n",
    "# Value of choosing one year of schooling from teh perspective of zero\n",
    "eval_point = V[1] / ((1 + r) * Y[0]) \n",
    "p[0] = lognorm.cdf(eval_point, s)\n",
    "\n",
    "V[0] = 0\n",
    "V[0] += (1 - p[0]) * Y[0] * conditional_expectation(eval_point, s) \n",
    "V[0] += p[0] * (V[1] / (1 + r))"
   ]
  },
  {
   "cell_type": "markdown",
   "metadata": {},
   "source": [
    "Just to be sure, we check that we reproduce the transition probabilites from Table 6a."
   ]
  },
  {
   "cell_type": "code",
   "execution_count": 7,
   "metadata": {},
   "outputs": [
    {
     "name": "stdout",
     "output_type": "stream",
     "text": [
      "\n",
      "Transition probabilities\n",
      "\n",
      "s = 2, 0.80\n",
      "s = 3, 0.75\n",
      "s = 4, 0.67\n",
      "s = 5, 0.52\n"
     ]
    }
   ],
   "source": [
    "print('\\nTransition probabilities\\n')\n",
    "for s in range(4):\n",
    "    label = s + 2\n",
    "    print('s = {}, {:,.2f}'.format(*[label, p[s]]))"
   ]
  }
 ],
 "metadata": {
  "kernelspec": {
   "display_name": "Python 3",
   "language": "python",
   "name": "python3"
  },
  "language_info": {
   "codemirror_mode": {
    "name": "ipython",
    "version": 3
   },
   "file_extension": ".py",
   "mimetype": "text/x-python",
   "name": "python",
   "nbconvert_exporter": "python",
   "pygments_lexer": "ipython3",
   "version": "3.6.4"
  }
 },
 "nbformat": 4,
 "nbformat_minor": 2
}
