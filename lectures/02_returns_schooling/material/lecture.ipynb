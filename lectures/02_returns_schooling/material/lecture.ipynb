{
 "cells": [
  {
   "cell_type": "markdown",
   "metadata": {},
   "source": [
    "# Returns to Education"
   ]
  },
  {
   "cell_type": "code",
   "execution_count": 1,
   "metadata": {},
   "outputs": [],
   "source": [
    "import statsmodels.formula.api as smf\n",
    "import pandas as pd\n",
    "import numpy as np\n",
    "\n",
    "pd.options.display.float_format = '${:,.2f}'.format"
   ]
  },
  {
   "cell_type": "markdown",
   "metadata": {},
   "source": [
    "We start by loading an observed dataset."
   ]
  },
  {
   "cell_type": "code",
   "execution_count": 2,
   "metadata": {},
   "outputs": [
    {
     "data": {
      "text/html": [
       "<div>\n",
       "<style scoped>\n",
       "    .dataframe tbody tr th:only-of-type {\n",
       "        vertical-align: middle;\n",
       "    }\n",
       "\n",
       "    .dataframe tbody tr th {\n",
       "        vertical-align: top;\n",
       "    }\n",
       "\n",
       "    .dataframe thead th {\n",
       "        text-align: right;\n",
       "    }\n",
       "</style>\n",
       "<table border=\"1\" class=\"dataframe\">\n",
       "  <thead>\n",
       "    <tr style=\"text-align: right;\">\n",
       "      <th></th>\n",
       "      <th>Age</th>\n",
       "      <th>Earnings</th>\n",
       "      <th>Schooling</th>\n",
       "      <th>Experience</th>\n",
       "    </tr>\n",
       "    <tr>\n",
       "      <th>Identifier</th>\n",
       "      <th></th>\n",
       "      <th></th>\n",
       "      <th></th>\n",
       "      <th></th>\n",
       "    </tr>\n",
       "  </thead>\n",
       "  <tbody>\n",
       "    <tr>\n",
       "      <th>0</th>\n",
       "      <td>35</td>\n",
       "      <td>$1,339.03</td>\n",
       "      <td>11</td>\n",
       "      <td>18</td>\n",
       "    </tr>\n",
       "    <tr>\n",
       "      <th>1</th>\n",
       "      <td>35</td>\n",
       "      <td>$1,495.97</td>\n",
       "      <td>12</td>\n",
       "      <td>17</td>\n",
       "    </tr>\n",
       "    <tr>\n",
       "      <th>2</th>\n",
       "      <td>51</td>\n",
       "      <td>$4,331.89</td>\n",
       "      <td>11</td>\n",
       "      <td>34</td>\n",
       "    </tr>\n",
       "    <tr>\n",
       "      <th>3</th>\n",
       "      <td>65</td>\n",
       "      <td>$8,373.52</td>\n",
       "      <td>15</td>\n",
       "      <td>44</td>\n",
       "    </tr>\n",
       "    <tr>\n",
       "      <th>4</th>\n",
       "      <td>45</td>\n",
       "      <td>$2,746.87</td>\n",
       "      <td>10</td>\n",
       "      <td>29</td>\n",
       "    </tr>\n",
       "  </tbody>\n",
       "</table>\n",
       "</div>"
      ],
      "text/plain": [
       "            Age  Earnings  Schooling  Experience\n",
       "Identifier                                      \n",
       "0            35 $1,339.03         11          18\n",
       "1            35 $1,495.97         12          17\n",
       "2            51 $4,331.89         11          34\n",
       "3            65 $8,373.52         15          44\n",
       "4            45 $2,746.87         10          29"
      ]
     },
     "execution_count": 2,
     "metadata": {},
     "output_type": "execute_result"
    }
   ],
   "source": [
    "df = pd.read_pickle('data.mincer.pkl')\n",
    "df.head()"
   ]
  },
  {
   "cell_type": "markdown",
   "metadata": {},
   "source": [
    "## Mincer Returns\n",
    "\n",
    "Now we can run the baseline regression."
   ]
  },
  {
   "cell_type": "code",
   "execution_count": 3,
   "metadata": {},
   "outputs": [
    {
     "data": {
      "text/html": [
       "<table class=\"simpletable\">\n",
       "<caption>OLS Regression Results</caption>\n",
       "<tr>\n",
       "  <th>Dep. Variable:</th>    <td>np.log(Earnings)</td> <th>  R-squared:         </th> <td>   0.988</td> \n",
       "</tr>\n",
       "<tr>\n",
       "  <th>Model:</th>                   <td>OLS</td>       <th>  Adj. R-squared:    </th> <td>   0.988</td> \n",
       "</tr>\n",
       "<tr>\n",
       "  <th>Method:</th>             <td>Least Squares</td>  <th>  F-statistic:       </th> <td>2.667e+04</td>\n",
       "</tr>\n",
       "<tr>\n",
       "  <th>Date:</th>             <td>Mon, 28 May 2018</td> <th>  Prob (F-statistic):</th>  <td>  0.00</td>  \n",
       "</tr>\n",
       "<tr>\n",
       "  <th>Time:</th>                 <td>13:55:38</td>     <th>  Log-Likelihood:    </th> <td>  884.23</td> \n",
       "</tr>\n",
       "<tr>\n",
       "  <th>No. Observations:</th>      <td>  1000</td>      <th>  AIC:               </th> <td>  -1760.</td> \n",
       "</tr>\n",
       "<tr>\n",
       "  <th>Df Residuals:</th>          <td>   996</td>      <th>  BIC:               </th> <td>  -1741.</td> \n",
       "</tr>\n",
       "<tr>\n",
       "  <th>Df Model:</th>              <td>     3</td>      <th>                     </th>     <td> </td>    \n",
       "</tr>\n",
       "<tr>\n",
       "  <th>Covariance Type:</th>      <td>nonrobust</td>    <th>                     </th>     <td> </td>    \n",
       "</tr>\n",
       "</table>\n",
       "<table class=\"simpletable\">\n",
       "<tr>\n",
       "            <td></td>               <th>coef</th>     <th>std err</th>      <th>t</th>      <th>P>|t|</th>  <th>[0.025</th>    <th>0.975]</th>  \n",
       "</tr>\n",
       "<tr>\n",
       "  <th>Intercept</th>             <td>    4.4074</td> <td>    0.026</td> <td>  172.438</td> <td> 0.000</td> <td>    4.357</td> <td>    4.458</td>\n",
       "</tr>\n",
       "<tr>\n",
       "  <th>Schooling</th>             <td>    0.1304</td> <td>    0.002</td> <td>   70.527</td> <td> 0.000</td> <td>    0.127</td> <td>    0.134</td>\n",
       "</tr>\n",
       "<tr>\n",
       "  <th>Experience</th>            <td>    0.0947</td> <td>    0.001</td> <td>  113.750</td> <td> 0.000</td> <td>    0.093</td> <td>    0.096</td>\n",
       "</tr>\n",
       "<tr>\n",
       "  <th>np.square(Experience)</th> <td>   -0.0007</td> <td> 1.45e-05</td> <td>  -48.200</td> <td> 0.000</td> <td>   -0.001</td> <td>   -0.001</td>\n",
       "</tr>\n",
       "</table>\n",
       "<table class=\"simpletable\">\n",
       "<tr>\n",
       "  <th>Omnibus:</th>       <td> 0.149</td> <th>  Durbin-Watson:     </th> <td>   2.006</td>\n",
       "</tr>\n",
       "<tr>\n",
       "  <th>Prob(Omnibus):</th> <td> 0.928</td> <th>  Jarque-Bera (JB):  </th> <td>   0.122</td>\n",
       "</tr>\n",
       "<tr>\n",
       "  <th>Skew:</th>          <td> 0.027</td> <th>  Prob(JB):          </th> <td>   0.941</td>\n",
       "</tr>\n",
       "<tr>\n",
       "  <th>Kurtosis:</th>      <td> 3.008</td> <th>  Cond. No.          </th> <td>1.09e+04</td>\n",
       "</tr>\n",
       "</table>"
      ],
      "text/plain": [
       "<class 'statsmodels.iolib.summary.Summary'>\n",
       "\"\"\"\n",
       "                            OLS Regression Results                            \n",
       "==============================================================================\n",
       "Dep. Variable:       np.log(Earnings)   R-squared:                       0.988\n",
       "Model:                            OLS   Adj. R-squared:                  0.988\n",
       "Method:                 Least Squares   F-statistic:                 2.667e+04\n",
       "Date:                Mon, 28 May 2018   Prob (F-statistic):               0.00\n",
       "Time:                        13:55:38   Log-Likelihood:                 884.23\n",
       "No. Observations:                1000   AIC:                            -1760.\n",
       "Df Residuals:                     996   BIC:                            -1741.\n",
       "Df Model:                           3                                         \n",
       "Covariance Type:            nonrobust                                         \n",
       "=========================================================================================\n",
       "                            coef    std err          t      P>|t|      [0.025      0.975]\n",
       "-----------------------------------------------------------------------------------------\n",
       "Intercept                 4.4074      0.026    172.438      0.000       4.357       4.458\n",
       "Schooling                 0.1304      0.002     70.527      0.000       0.127       0.134\n",
       "Experience                0.0947      0.001    113.750      0.000       0.093       0.096\n",
       "np.square(Experience)    -0.0007   1.45e-05    -48.200      0.000      -0.001      -0.001\n",
       "==============================================================================\n",
       "Omnibus:                        0.149   Durbin-Watson:                   2.006\n",
       "Prob(Omnibus):                  0.928   Jarque-Bera (JB):                0.122\n",
       "Skew:                           0.027   Prob(JB):                        0.941\n",
       "Kurtosis:                       3.008   Cond. No.                     1.09e+04\n",
       "==============================================================================\n",
       "\n",
       "Warnings:\n",
       "[1] Standard Errors assume that the covariance matrix of the errors is correctly specified.\n",
       "[2] The condition number is large, 1.09e+04. This might indicate that there are\n",
       "strong multicollinearity or other numerical problems.\n",
       "\"\"\""
      ]
     },
     "execution_count": 3,
     "metadata": {},
     "output_type": "execute_result"
    }
   ],
   "source": [
    "formula = 'np.log(Earnings) ~ Schooling + Experience + np.square(Experience)'\n",
    "model = smf.ols(formula=formula, data=df)\n",
    "model.fit().summary()"
   ]
  },
  {
   "cell_type": "markdown",
   "metadata": {},
   "source": [
    "What about the underlying economic model?"
   ]
  },
  {
   "cell_type": "markdown",
   "metadata": {},
   "source": [
    "## True Returns"
   ]
  },
  {
   "cell_type": "code",
   "execution_count": 63,
   "metadata": {},
   "outputs": [
    {
     "data": {
      "text/plain": [
       "array([0.79530393, 0.74772136, 0.67040445, 0.51993881])"
      ]
     },
     "execution_count": 63,
     "metadata": {},
     "output_type": "execute_result"
    }
   ],
   "source": [
    "from scipy.stats import lognorm\n",
    "from scipy.stats import norm\n",
    "\n",
    "\n",
    "\n",
    "Y_s = np.tile(np.nan, 5)\n",
    "V_s = np.tile(np.nan, 5)\n",
    "p_s = np.tile(np.nan, 4)\n",
    "\n",
    "r = 0.1\n",
    "s = 0.1\n",
    "\n",
    "Y_s[0] = 1\n",
    "for i in range(1, 5):\n",
    "    Y_s[i] = Y_s[i - 1] * (1 + r)\n",
    "\n",
    "\n",
    "# This is the adjustment to the expected earnings\n",
    "shift = np.exp(s ** 2 / 2)\n",
    "\n",
    "# Value of choosing five years of schooling from the perspective of four years.\n",
    "V_s[4] = Y_s[4] * shift\n",
    "\n",
    "# Value of choosing four years of schooling from the perspective of three years.\n",
    "eval_point = V_s[4]/ ((1 + r) * Y_s[3])\n",
    "p_s[3] = lognorm.cdf(eval_point, s)\n",
    "\n",
    "V_s[3] = 0\n",
    "V_s[3] += (1 - p_s[3]) * Y_s[3] * conditional_expectation(eval_point, s) \n",
    "V_s[3] += p_s[3] * (V_s[4] / (1 + r))\n",
    "\n",
    "# Value of choosing three years of schooling from teh perspective of two\n",
    "eval_point = V_s[3] / ((1 + r) * Y_s[2]) \n",
    "p_s[2] = lognorm.cdf(eval_point, s)\n",
    "\n",
    "V_s[2] = 0\n",
    "V_s[2] += (1 - p_s[2]) * Y_s[2] * conditional_expectation(eval_point, s)\n",
    "V_s[2] += p_s[2] * (V_s[3] / (1 + r))\n",
    "\n",
    "# Value of choosing two years of schooling from the perspective of two\n",
    "eval_point = V_s[2] / ((1 + r) * Y_s[1]) \n",
    "p_s[1] = lognorm.cdf(eval_point, s)\n",
    "\n",
    "V_s[1] = 0\n",
    "V_s[1] += (1 - p_s[1]) * Y_s[1] * conditional_expectation(eval_point, s)\n",
    "V_s[1] += p_s[1] * (V_s[2] / (1 + r))\n",
    "\n",
    "# Value of choosing one year of schooling from teh perspective of zero\n",
    "eval_point = V_s[1] / ((1 + r) * Y_s[0]) \n",
    "p_s[0] = lognorm.cdf(eval_point, s)\n",
    "\n",
    "V_s[0] = 0\n",
    "V_s[0] += (1 - p_s[0]) * Y_s[0] * conditional_expectation(eval_point, s) \n",
    "V_s[0] += p_s[0] * (V_s[1] / (1 + r))\n",
    "p_s"
   ]
  },
  {
   "cell_type": "code",
   "execution_count": null,
   "metadata": {},
   "outputs": [],
   "source": []
  }
 ],
 "metadata": {
  "kernelspec": {
   "display_name": "Python 3",
   "language": "python",
   "name": "python3"
  },
  "language_info": {
   "codemirror_mode": {
    "name": "ipython",
    "version": 3
   },
   "file_extension": ".py",
   "mimetype": "text/x-python",
   "name": "python",
   "nbconvert_exporter": "python",
   "pygments_lexer": "ipython3",
   "version": "3.6.4"
  }
 },
 "nbformat": 4,
 "nbformat_minor": 2
}
